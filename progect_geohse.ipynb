git rm progect_geohse (1).ipyn
